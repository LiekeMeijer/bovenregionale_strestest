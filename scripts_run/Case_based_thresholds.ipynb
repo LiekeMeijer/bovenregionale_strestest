{
 "cells": [
  {
   "cell_type": "code",
   "execution_count": 1,
   "id": "90d966ae",
   "metadata": {},
   "outputs": [],
   "source": [
    "from pathlib import Path\n",
    "import geopandas as gpd\n",
    "import folium \n",
    "from shapely.geometry import LineString, Polygon, box, shape\n",
    "import rasterio\n",
    "import os\n",
    "import matplotlib.pyplot as plt\n",
    "import pandas as pd\n",
    "import rasterio.features"
   ]
  },
  {
   "cell_type": "code",
   "execution_count": 7,
   "id": "ebebc5e2",
   "metadata": {},
   "outputs": [],
   "source": [
    "\n",
    "region = \"Limburg\"\n",
    "Output_dir = Path(rf\"P:\\bovenregionale-stresstest-hwn\\Analysis\\{region}\\Outputs\")\n",
    "hazard_graph = gpd.read_file(Output_dir.joinpath(\"base_network_hazard.gpkg\"), driver='GPKG')"
   ]
  },
  {
   "cell_type": "code",
   "execution_count": 8,
   "id": "4d839fb6",
   "metadata": {},
   "outputs": [],
   "source": [
    "import geopandas as gpd\n",
    "import pandas as pd\n",
    "\n",
    "gdf = hazard_graph.copy()\n",
    "# Step 1: Initialize the score column\n",
    "gdf['Flood_uncertainty'] = 0\n",
    "\n",
    "# Step 2: Add 1 if EV1_fr < 0.2\n",
    "gdf.loc[gdf['EV1_fr'] < 0.3, 'Flood_uncertainty'] += 1\n",
    "\n",
    "# Step 3: Add 1 if both EV1_me and EV1_ma <= 0.3\n",
    "gdf.loc[(gdf['EV1_me'] <= 0.3) & (gdf['EV1_ma'] <= 0.3), 'Flood_uncertainty'] += 1\n",
    "#gdf.loc[gdf['EV1_me'] < 0.3, 'Flood_uncertainty'] += 1\n",
    "\n",
    "# Step 4: Define the isolation check\n",
    "def is_isolated(index, flooded_series):\n",
    "    if not flooded_series.iloc[index]:\n",
    "        return False\n",
    "    neighbors = []\n",
    "    if index > 0:\n",
    "        neighbors.append(flooded_series.iloc[index - 1])\n",
    "    if index < len(flooded_series) - 1:\n",
    "        neighbors.append(flooded_series.iloc[index + 1])\n",
    "    return not any(neighbors)\n",
    "\n",
    "# Step 5: Apply isolation logic and update score\n",
    "gdf['is_flooded'] = gdf['Flood_uncertainty'] > 0\n",
    "gdf['is_isolated'] = [is_isolated(i, gdf['is_flooded']) for i in range(len(gdf))]\n",
    "gdf.loc[gdf['is_isolated'], 'Flood_uncertainty'] += 1\n"
   ]
  },
  {
   "cell_type": "code",
   "execution_count": 9,
   "id": "c9d28354",
   "metadata": {},
   "outputs": [],
   "source": [
    "gdf = gdf.set_crs(\"EPSG:28992\", allow_override=True)\n",
    "gdf.to_file(Output_dir.joinpath(\"flooded_segments_case_based.gpkg\"), driver='GPKG')"
   ]
  },
  {
   "cell_type": "code",
   "execution_count": 10,
   "id": "3a754a06",
   "metadata": {},
   "outputs": [],
   "source": [
    "\n",
    "ev_cols = [col for col in gdf.columns if col.startswith('EV')]\n",
    "gdf.loc[gdf['Flood_uncertainty'] > 0, ev_cols] = 0\n",
    "\n"
   ]
  },
  {
   "cell_type": "code",
   "execution_count": 11,
   "id": "04f571f8",
   "metadata": {},
   "outputs": [
    {
     "ename": "CPLE_AppDefinedError",
     "evalue": "b\"sqlite3_exec(UPDATE gpkg_contents SET min_x = 163238.9851999989, min_y = 307279.826000001, max_x = 212732.3459999999, max_y = 409891.5467784372 WHERE lower(table_name) = lower('Aggregated_flooded_segments') AND Lower(data_type) = 'features') failed: disk I/O error\"",
     "output_type": "error",
     "traceback": [
      "\u001b[31m---------------------------------------------------------------------------\u001b[39m",
      "\u001b[31mCPLE_AppDefinedError\u001b[39m                      Traceback (most recent call last)",
      "\u001b[36mFile \u001b[39m\u001b[32mfiona\\_err.pyx:201\u001b[39m, in \u001b[36mfiona._err.GDALErrCtxManager.__exit__\u001b[39m\u001b[34m()\u001b[39m\n",
      "\u001b[31mCPLE_AppDefinedError\u001b[39m: b\"sqlite3_exec(UPDATE gpkg_contents SET min_x = 163238.9851999989, min_y = 307279.826000001, max_x = 212732.3459999999, max_y = 409891.5467784372 WHERE lower(table_name) = lower('Aggregated_flooded_segments') AND Lower(data_type) = 'features') failed: disk I/O error\""
     ]
    },
    {
     "name": "stderr",
     "output_type": "stream",
     "text": [
      "Exception ignored in: 'fiona._shim.gdal_flush_cache'\n",
      "Traceback (most recent call last):\n",
      "  File \"fiona\\_err.pyx\", line 201, in fiona._err.GDALErrCtxManager.__exit__\n",
      "fiona._err.CPLE_AppDefinedError: b\"sqlite3_exec(UPDATE gpkg_contents SET min_x = 163238.9851999989, min_y = 307279.826000001, max_x = 212732.3459999999, max_y = 409891.5467784372 WHERE lower(table_name) = lower('Aggregated_flooded_segments') AND Lower(data_type) = 'features') failed: disk I/O error\"\n"
     ]
    }
   ],
   "source": [
    "import geopandas as gpd\n",
    "\n",
    "# Calculate flooded length per segment\n",
    "gdf['flooded_length'] = gdf['EV1_fr'] * gdf['length']\n",
    "\n",
    "# Define aggregation dictionary\n",
    "ev_cols = [col for col in gdf.columns if col.startswith('EV')]\n",
    "agg_dict = {\n",
    "    'length': 'sum',\n",
    "    'flooded_length': 'sum',\n",
    "    **{col: ['mean', 'max', 'median'] for col in ev_cols}\n",
    "}\n",
    "\n",
    "# Dissolve geometries and aggregate\n",
    "gdf_dissolved = gdf.dissolve(by='NETWERKSCH', aggfunc=agg_dict, as_index=False)\n",
    "\n",
    "# Flatten multi-level columns\n",
    "gdf_dissolved.columns = [\n",
    "    f\"{col[0]}_{col[1]}\" if isinstance(col, tuple) else col\n",
    "    for col in gdf_dissolved.columns\n",
    "]\n",
    "\n",
    "# Rename for clarity\n",
    "gdf_dissolved = gdf_dissolved.rename(columns={\n",
    "    'length_sum': 'total_length',\n",
    "    'flooded_length_sum': 'flooded_length'\n",
    "})\n",
    "\n",
    "# Calculate fraction flooded\n",
    "gdf_dissolved['fraction_flooded'] = gdf_dissolved['flooded_length'] / gdf_dissolved['total_length']\n",
    "\n",
    "# Convert to GeoDataFrame and set CRS\n",
    "gdf_agg = gpd.GeoDataFrame(gdf_dissolved, geometry='geometry', crs=gdf.crs)\n",
    "gdf_agg = gdf_agg.set_crs(\"EPSG:28992\", allow_override=True)\n",
    "\n",
    "# Save to file\n",
    "gdf_agg.to_file(Output_dir.joinpath(\"Aggregated_flooded_segments.gpkg\"), driver='GPKG')\n"
   ]
  }
 ],
 "metadata": {
  "kernelspec": {
   "display_name": "ra2ce_env_brs",
   "language": "python",
   "name": "python3"
  },
  "language_info": {
   "codemirror_mode": {
    "name": "ipython",
    "version": 3
   },
   "file_extension": ".py",
   "mimetype": "text/x-python",
   "name": "python",
   "nbconvert_exporter": "python",
   "pygments_lexer": "ipython3",
   "version": "3.11.13"
  }
 },
 "nbformat": 4,
 "nbformat_minor": 5
}
