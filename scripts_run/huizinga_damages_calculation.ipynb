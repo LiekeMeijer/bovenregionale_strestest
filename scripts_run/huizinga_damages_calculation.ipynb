{
 "cells": [
  {
   "cell_type": "code",
   "execution_count": 1,
   "metadata": {},
   "outputs": [],
   "source": [
    "from pathlib import Path\n",
    "import geopandas as gpd\n",
    "import folium \n",
    "from shapely.geometry import LineString, Polygon, box, shape\n",
    "import rasterio\n",
    "import os\n",
    "import matplotlib.pyplot as plt\n",
    "import pandas as pd\n",
    "import rasterio.features"
   ]
  },
  {
   "cell_type": "code",
   "execution_count": 2,
   "metadata": {},
   "outputs": [
    {
     "name": "stderr",
     "output_type": "stream",
     "text": [
      "c:\\Users\\meije_le\\AppData\\Local\\miniforge3\\envs\\ra2ce_env_brs\\Lib\\site-packages\\tqdm\\auto.py:21: TqdmWarning: IProgress not found. Please update jupyter and ipywidgets. See https://ipywidgets.readthedocs.io/en/stable/user_install.html\n",
      "  from .autonotebook import tqdm as notebook_tqdm\n"
     ]
    }
   ],
   "source": [
    "import ra2ce.network.networks_utils as nut\n",
    "from ra2ce.network.network_config_data.enums.network_type_enum import NetworkTypeEnum\n",
    "from ra2ce.network.network_config_data.enums.road_type_enum import RoadTypeEnum\n",
    "from ra2ce.network.network_config_data.network_config_data import (NetworkConfigData,NetworkSection)\n",
    "from ra2ce.network.exporters.geodataframe_network_exporter import GeoDataFrameNetworkExporter\n",
    "from ra2ce.network.exporters.multi_graph_network_exporter import MultiGraphNetworkExporter\n",
    "from ra2ce.network.network_config_data.enums.aggregate_wl_enum import AggregateWlEnum\n",
    "from ra2ce.network.network_config_data.enums.source_enum import SourceEnum\n",
    "from ra2ce.network.network_config_data.network_config_data import (NetworkConfigData,NetworkSection,HazardSection, CleanupSection)\n",
    "from ra2ce.ra2ce_handler import Ra2ceHandler\n",
    "from ra2ce.analysis.damages.damages import AnalysisSectionDamages\n",
    "from ra2ce.configuration.ra2ce_enum_base import Ra2ceEnumBase\n",
    "from ra2ce.analysis.analysis_config_data.enums.analysis_damages_enum import AnalysisDamagesEnum\n",
    "from ra2ce.analysis.analysis_config_data.enums.event_type_enum import EventTypeEnum\n",
    "from ra2ce.analysis.analysis_config_data.enums.damage_curve_enum import DamageCurveEnum\n",
    "from ra2ce.analysis.analysis_config_data.analysis_config_data import AnalysisConfigData\n",
    "from ra2ce.network.network_wrappers.osm_network_wrapper.osm_network_wrapper import OsmNetworkWrapper"
   ]
  },
  {
   "cell_type": "code",
   "execution_count": 10,
   "metadata": {},
   "outputs": [],
   "source": [
    "root_dir = Path(r\"P:\\bovenregionale-stresstest-hwn\\Scripts\\RA2CE_Model\\data\\Test_thresholds\")\n",
    "\n",
    "static_path = root_dir.joinpath(\"static\") #within your root directory there should be a 'static' folder\n",
    "network_path = root_dir.joinpath(\"network\") #within the static folder there should be a 'network' folder\n",
    "hazard_path = root_dir.joinpath(\"hazard\") #within the static folder there should be a 'hazard' folder\n",
    "output_path = root_dir.joinpath(\"output\")\n",
    "assert root_dir.exists(), \"root_dir not found.\""
   ]
  },
  {
   "cell_type": "code",
   "execution_count": 4,
   "metadata": {},
   "outputs": [],
   "source": [
    "hazard_map_path = hazard_path.joinpath(\"HAA_scenario_113816_max_waterdepth.tiff\")  # Put the name of your hazard map here"
   ]
  },
  {
   "cell_type": "code",
   "execution_count": 11,
   "metadata": {},
   "outputs": [],
   "source": [
    "#First we define which roads we will want to download from OSM to create a network with\n",
    "network_section = NetworkSection(\n",
    "    source= SourceEnum.SHAPEFILE,       \n",
    "    primary_file = [network_path.joinpath(\"segmented_network_Complete.gpkg\")], \n",
    "    file_id = \"ID\",\n",
    "    link_type_column=\"highway\",\n",
    "    save_gpkg=True\n",
    "    #attributes_to_exclude_in_simplification=['bridge', 'tunnel'], \n",
    ")\n",
    "#We input the hazard map(s)\n",
    "hazard = HazardSection(\n",
    "    hazard_map=[hazard_map_path],\n",
    "    aggregate_wl = AggregateWlEnum.MAX,\n",
    "    hazard_crs = \"EPSG:28992\"\n",
    ")\n",
    "\n",
    "#cleanup_section = CleanupSection(\n",
    "#    segmentation_length=100\n",
    "#)\n",
    "\n",
    "#pass the specified sections as arguments for configuration\n",
    "\n",
    "network_config_data = NetworkConfigData(\n",
    "    root_path=root_dir,\n",
    "    static_path=static_path,\n",
    "    output_path=output_path,\n",
    "    network=network_section,\n",
    "    hazard=hazard,\n",
    "    #cleanup=cleanup_section,\n",
    "    )\n"
   ]
  },
  {
   "cell_type": "code",
   "execution_count": 12,
   "metadata": {},
   "outputs": [],
   "source": [
    "section_damage = [AnalysisSectionDamages(\n",
    "    name='HZ_damage',\n",
    "    analysis=AnalysisDamagesEnum.DAMAGES,\n",
    "    event_type=EventTypeEnum.EVENT,\n",
    "    damage_curve=DamageCurveEnum.HZ,\n",
    "    save_gpkg=True,\n",
    "    save_csv=True,\n",
    ")]\n",
    "\n",
    "analysis_config_data = AnalysisConfigData(analyses=section_damage, root_path=root_dir, output_path=output_path)\n",
    "analysis_config_data.input_path = root_dir.joinpath(\"input_data\")"
   ]
  },
  {
   "cell_type": "code",
   "execution_count": 13,
   "metadata": {},
   "outputs": [],
   "source": [
    "with open(r\"P:\\bovenregionale-stresstest-hwn\\Scripts\\RA2CE_Model\\data\\Test_thresholds\\static\\output_graph\\test.txt\", \"w\") as f:\n",
    "    f.write(\"test\")\n"
   ]
  },
  {
   "attachments": {},
   "cell_type": "markdown",
   "metadata": {},
   "source": [
    "### Run RA2CE."
   ]
  },
  {
   "cell_type": "code",
   "execution_count": 14,
   "metadata": {},
   "outputs": [
    {
     "name": "stderr",
     "output_type": "stream",
     "text": [
      "100%|██████████| 20956/20956 [00:00<00:00, 339376.64it/s]\n",
      "2025-08-05 05:37:34 PM - [network_graph_simplificator.py:139] - root - ERROR - Could not find the simple ID belonging to complex ID (2708, 2709, 0); value set to None. Full error: 3441\n",
      "2025-08-05 05:37:34 PM - [network_graph_simplificator.py:139] - root - ERROR - Could not find the simple ID belonging to complex ID (2708, 2709, 0); value set to None. Full error: 3441\n",
      "2025-08-05 05:37:34 PM - [network_graph_simplificator.py:139] - root - ERROR - Could not find the simple ID belonging to complex ID (2708, 2709, 0); value set to None. Full error: 3441\n",
      "2025-08-05 05:37:34 PM - [network_graph_simplificator.py:139] - root - ERROR - Could not find the simple ID belonging to complex ID (2708, 9341, 0); value set to None. Full error: 3442\n",
      "2025-08-05 05:37:34 PM - [network_graph_simplificator.py:139] - root - ERROR - Could not find the simple ID belonging to complex ID (2708, 9341, 0); value set to None. Full error: 3442\n",
      "2025-08-05 05:37:34 PM - [network_graph_simplificator.py:139] - root - ERROR - Could not find the simple ID belonging to complex ID (2708, 9341, 0); value set to None. Full error: 3442\n",
      "2025-08-05 05:37:34 PM - [network_graph_simplificator.py:139] - root - ERROR - Could not find the simple ID belonging to complex ID (2709, 14007, 0); value set to None. Full error: 3443\n",
      "2025-08-05 05:37:34 PM - [network_graph_simplificator.py:139] - root - ERROR - Could not find the simple ID belonging to complex ID (2709, 14007, 0); value set to None. Full error: 3443\n",
      "2025-08-05 05:37:34 PM - [network_graph_simplificator.py:139] - root - ERROR - Could not find the simple ID belonging to complex ID (2709, 14007, 0); value set to None. Full error: 3443\n",
      "2025-08-05 05:37:34 PM - [network_graph_simplificator.py:139] - root - ERROR - Could not find the simple ID belonging to complex ID (3133, 3134, 0); value set to None. Full error: 4023\n",
      "2025-08-05 05:37:34 PM - [network_graph_simplificator.py:139] - root - ERROR - Could not find the simple ID belonging to complex ID (3133, 3134, 0); value set to None. Full error: 4023\n",
      "2025-08-05 05:37:34 PM - [network_graph_simplificator.py:139] - root - ERROR - Could not find the simple ID belonging to complex ID (3133, 3134, 0); value set to None. Full error: 4023\n",
      "2025-08-05 05:37:34 PM - [network_graph_simplificator.py:139] - root - ERROR - Could not find the simple ID belonging to complex ID (3133, 14366, 0); value set to None. Full error: 4024\n",
      "2025-08-05 05:37:34 PM - [network_graph_simplificator.py:139] - root - ERROR - Could not find the simple ID belonging to complex ID (3133, 14366, 0); value set to None. Full error: 4024\n",
      "2025-08-05 05:37:34 PM - [network_graph_simplificator.py:139] - root - ERROR - Could not find the simple ID belonging to complex ID (3133, 14366, 0); value set to None. Full error: 4024\n",
      "2025-08-05 05:37:34 PM - [network_graph_simplificator.py:139] - root - ERROR - Could not find the simple ID belonging to complex ID (3134, 9340, 0); value set to None. Full error: 4025\n",
      "2025-08-05 05:37:34 PM - [network_graph_simplificator.py:139] - root - ERROR - Could not find the simple ID belonging to complex ID (3134, 9340, 0); value set to None. Full error: 4025\n",
      "2025-08-05 05:37:34 PM - [network_graph_simplificator.py:139] - root - ERROR - Could not find the simple ID belonging to complex ID (3134, 9340, 0); value set to None. Full error: 4025\n",
      "2025-08-05 05:37:34 PM - [network_graph_simplificator.py:139] - root - ERROR - Could not find the simple ID belonging to complex ID (9340, 9341, 0); value set to None. Full error: 11734\n",
      "2025-08-05 05:37:34 PM - [network_graph_simplificator.py:139] - root - ERROR - Could not find the simple ID belonging to complex ID (9340, 9341, 0); value set to None. Full error: 11734\n",
      "2025-08-05 05:37:34 PM - [network_graph_simplificator.py:139] - root - ERROR - Could not find the simple ID belonging to complex ID (9340, 9341, 0); value set to None. Full error: 11734\n",
      "2025-08-05 05:37:34 PM - [network_graph_simplificator.py:139] - root - ERROR - Could not find the simple ID belonging to complex ID (14007, 14366, 0); value set to None. Full error: 17193\n",
      "2025-08-05 05:37:34 PM - [network_graph_simplificator.py:139] - root - ERROR - Could not find the simple ID belonging to complex ID (14007, 14366, 0); value set to None. Full error: 17193\n",
      "2025-08-05 05:37:34 PM - [network_graph_simplificator.py:139] - root - ERROR - Could not find the simple ID belonging to complex ID (14007, 14366, 0); value set to None. Full error: 17193\n",
      "2025-08-05 05:37:34 PM - [avg_speed_calculator.py:176] - root - WARNING - No valid file found with average speeds P:\\bovenregionale-stresstest-hwn\\Scripts\\RA2CE_Model\\data\\Test_thresholds\\static\\output_graph\\avg_speed.csv, calculating and saving them instead.\n",
      "2025-08-05 05:37:34 PM - [avg_speed_calculator.py:176] - root - WARNING - No valid file found with average speeds P:\\bovenregionale-stresstest-hwn\\Scripts\\RA2CE_Model\\data\\Test_thresholds\\static\\output_graph\\avg_speed.csv, calculating and saving them instead.\n",
      "2025-08-05 05:37:34 PM - [avg_speed_calculator.py:176] - root - WARNING - No valid file found with average speeds P:\\bovenregionale-stresstest-hwn\\Scripts\\RA2CE_Model\\data\\Test_thresholds\\static\\output_graph\\avg_speed.csv, calculating and saving them instead.\n",
      "2025-08-05 05:37:34 PM - [avg_speed_calculator.py:176] - root - WARNING - No valid file found with average speeds P:\\bovenregionale-stresstest-hwn\\Scripts\\RA2CE_Model\\data\\Test_thresholds\\static\\output_graph\\avg_speed.csv, calculating and saving them instead.\n",
      "2025-08-05 05:37:34 PM - [avg_speed_calculator.py:176] - root - WARNING - No valid file found with average speeds P:\\bovenregionale-stresstest-hwn\\Scripts\\RA2CE_Model\\data\\Test_thresholds\\static\\output_graph\\avg_speed.csv, calculating and saving them instead.\n",
      "2025-08-05 05:37:34 PM - [avg_speed_calculator.py:176] - root - WARNING - No valid file found with average speeds P:\\bovenregionale-stresstest-hwn\\Scripts\\RA2CE_Model\\data\\Test_thresholds\\static\\output_graph\\avg_speed.csv, calculating and saving them instead.\n",
      "2025-08-05 05:37:53 PM - [collection.py:446] - fiona._env - ERROR - sqlite3_exec(CREATE TRIGGER \"trigger_delete_feature_count_base_graph_edges\" AFTER DELETE ON \"base_graph_edges\" BEGIN UPDATE gpkg_ogr_contents SET feature_count = feature_count - 1 WHERE lower(table_name) = lower('base_graph_edges'); END;) failed: unable to open database file\n",
      "2025-08-05 05:37:53 PM - [collection.py:446] - fiona._env - ERROR - sqlite3_exec(CREATE TRIGGER \"trigger_delete_feature_count_base_graph_edges\" AFTER DELETE ON \"base_graph_edges\" BEGIN UPDATE gpkg_ogr_contents SET feature_count = feature_count - 1 WHERE lower(table_name) = lower('base_graph_edges'); END;) failed: unable to open database file\n",
      "2025-08-05 05:37:53 PM - [collection.py:446] - fiona._env - ERROR - sqlite3_exec(CREATE TRIGGER \"trigger_delete_feature_count_base_graph_edges\" AFTER DELETE ON \"base_graph_edges\" BEGIN UPDATE gpkg_ogr_contents SET feature_count = feature_count - 1 WHERE lower(table_name) = lower('base_graph_edges'); END;) failed: unable to open database file\n",
      "2025-08-05 05:38:02 PM - [collection.py:446] - fiona._env - ERROR - sqlite3_exec(CREATE TABLE gpkg_extensions (table_name TEXT,column_name TEXT,extension_name TEXT NOT NULL,definition TEXT NOT NULL,scope TEXT NOT NULL,CONSTRAINT ge_tce UNIQUE (table_name, column_name, extension_name))) failed: disk I/O error\n",
      "2025-08-05 05:38:02 PM - [collection.py:446] - fiona._env - ERROR - sqlite3_exec(CREATE TABLE gpkg_extensions (table_name TEXT,column_name TEXT,extension_name TEXT NOT NULL,definition TEXT NOT NULL,scope TEXT NOT NULL,CONSTRAINT ge_tce UNIQUE (table_name, column_name, extension_name))) failed: disk I/O error\n",
      "2025-08-05 05:38:02 PM - [collection.py:446] - fiona._env - ERROR - sqlite3_exec(CREATE TABLE gpkg_extensions (table_name TEXT,column_name TEXT,extension_name TEXT NOT NULL,definition TEXT NOT NULL,scope TEXT NOT NULL,CONSTRAINT ge_tce UNIQUE (table_name, column_name, extension_name))) failed: disk I/O error\n"
     ]
    },
    {
     "ename": "CPLE_AppDefinedError",
     "evalue": "b'sqlite3_exec(CREATE TABLE gpkg_extensions (table_name TEXT,column_name TEXT,extension_name TEXT NOT NULL,definition TEXT NOT NULL,scope TEXT NOT NULL,CONSTRAINT ge_tce UNIQUE (table_name, column_name, extension_name))) failed: disk I/O error'",
     "output_type": "error",
     "traceback": [
      "\u001b[31m---------------------------------------------------------------------------\u001b[39m",
      "\u001b[31mCPLE_AppDefinedError\u001b[39m                      Traceback (most recent call last)",
      "\u001b[36mFile \u001b[39m\u001b[32mfiona\\_err.pyx:201\u001b[39m, in \u001b[36mfiona._err.GDALErrCtxManager.__exit__\u001b[39m\u001b[34m()\u001b[39m\n",
      "\u001b[31mCPLE_AppDefinedError\u001b[39m: b'sqlite3_exec(CREATE TABLE gpkg_extensions (table_name TEXT,column_name TEXT,extension_name TEXT NOT NULL,definition TEXT NOT NULL,scope TEXT NOT NULL,CONSTRAINT ge_tce UNIQUE (table_name, column_name, extension_name))) failed: disk I/O error'"
     ]
    },
    {
     "name": "stderr",
     "output_type": "stream",
     "text": [
      "Exception ignored in: 'fiona._shim.gdal_flush_cache'\n",
      "Traceback (most recent call last):\n",
      "  File \"fiona\\_err.pyx\", line 201, in fiona._err.GDALErrCtxManager.__exit__\n",
      "fiona._err.CPLE_AppDefinedError: b'sqlite3_exec(CREATE TABLE gpkg_extensions (table_name TEXT,column_name TEXT,extension_name TEXT NOT NULL,definition TEXT NOT NULL,scope TEXT NOT NULL,CONSTRAINT ge_tce UNIQUE (table_name, column_name, extension_name))) failed: disk I/O error'\n"
     ]
    },
    {
     "ename": "TypeError",
     "evalue": "'HazardFiles' object is not subscriptable",
     "output_type": "error",
     "traceback": [
      "\u001b[31m---------------------------------------------------------------------------\u001b[39m",
      "\u001b[31mTypeError\u001b[39m                                 Traceback (most recent call last)",
      "\u001b[36mCell\u001b[39m\u001b[36m \u001b[39m\u001b[32mIn[14]\u001b[39m\u001b[32m, line 2\u001b[39m\n\u001b[32m      1\u001b[39m handler = Ra2ceHandler.from_config(network_config_data, \u001b[38;5;28;01mNone\u001b[39;00m)\n\u001b[32m----> \u001b[39m\u001b[32m2\u001b[39m \u001b[43mhandler\u001b[49m\u001b[43m.\u001b[49m\u001b[43mconfigure\u001b[49m\u001b[43m(\u001b[49m\u001b[43m)\u001b[49m\n\u001b[32m      3\u001b[39m handler.run_analysis()\n",
      "\u001b[36mFile \u001b[39m\u001b[32mC:\\python\\bovenregionale_strestest\\ra2ce\\ra2ce_handler.py:162\u001b[39m, in \u001b[36mRa2ceHandler.configure\u001b[39m\u001b[34m(self)\u001b[39m\n\u001b[32m    157\u001b[39m \u001b[38;5;28;01mdef\u001b[39;00m\u001b[38;5;250m \u001b[39m\u001b[34mconfigure\u001b[39m(\u001b[38;5;28mself\u001b[39m) -> \u001b[38;5;28;01mNone\u001b[39;00m:\n\u001b[32m    158\u001b[39m \u001b[38;5;250m    \u001b[39m\u001b[33;03m\"\"\"\u001b[39;00m\n\u001b[32m    159\u001b[39m \u001b[33;03m    Configures the `ConfigWrapper` with the current `AnalysisConfigData` and\u001b[39;00m\n\u001b[32m    160\u001b[39m \u001b[33;03m    `NetworkConfigData` so that the analyses can be succesfully run.\u001b[39;00m\n\u001b[32m    161\u001b[39m \u001b[33;03m    \"\"\"\u001b[39;00m\n\u001b[32m--> \u001b[39m\u001b[32m162\u001b[39m     \u001b[38;5;28;43mself\u001b[39;49m\u001b[43m.\u001b[49m\u001b[43minput_config\u001b[49m\u001b[43m.\u001b[49m\u001b[43mconfigure\u001b[49m\u001b[43m(\u001b[49m\u001b[43m)\u001b[49m\n\u001b[32m    163\u001b[39m     \u001b[38;5;28mself\u001b[39m.analysis_collection = AnalysisCollection.from_config(\n\u001b[32m    164\u001b[39m         \u001b[38;5;28mself\u001b[39m.input_config.analysis_config\n\u001b[32m    165\u001b[39m     )\n",
      "\u001b[36mFile \u001b[39m\u001b[32mC:\\python\\bovenregionale_strestest\\ra2ce\\configuration\\config_wrapper.py:71\u001b[39m, in \u001b[36mConfigWrapper.configure\u001b[39m\u001b[34m(self)\u001b[39m\n\u001b[32m     69\u001b[39m \u001b[38;5;28;01mdef\u001b[39;00m\u001b[38;5;250m \u001b[39m\u001b[34mconfigure\u001b[39m(\u001b[38;5;28mself\u001b[39m) -> \u001b[38;5;28;01mNone\u001b[39;00m:\n\u001b[32m     70\u001b[39m     \u001b[38;5;28;01mif\u001b[39;00m \u001b[38;5;28mself\u001b[39m.network_config:\n\u001b[32m---> \u001b[39m\u001b[32m71\u001b[39m         \u001b[38;5;28;43mself\u001b[39;49m\u001b[43m.\u001b[49m\u001b[43mnetwork_config\u001b[49m\u001b[43m.\u001b[49m\u001b[43mconfigure\u001b[49m\u001b[43m(\u001b[49m\u001b[43m)\u001b[49m\n\u001b[32m     72\u001b[39m     \u001b[38;5;28;01mif\u001b[39;00m \u001b[38;5;28mself\u001b[39m.analysis_config:\n\u001b[32m     73\u001b[39m         \u001b[38;5;28mself\u001b[39m.analysis_config.configure()\n",
      "\u001b[36mFile \u001b[39m\u001b[32mC:\\python\\bovenregionale_strestest\\ra2ce\\network\\network_config_wrapper.py:85\u001b[39m, in \u001b[36mNetworkConfigWrapper.configure\u001b[39m\u001b[34m(self)\u001b[39m\n\u001b[32m     83\u001b[39m \u001b[38;5;28;01mdef\u001b[39;00m\u001b[38;5;250m \u001b[39m\u001b[34mconfigure\u001b[39m(\u001b[38;5;28mself\u001b[39m) -> \u001b[38;5;28;01mNone\u001b[39;00m:\n\u001b[32m     84\u001b[39m     \u001b[38;5;28mself\u001b[39m.configure_network()\n\u001b[32m---> \u001b[39m\u001b[32m85\u001b[39m     \u001b[38;5;28;43mself\u001b[39;49m\u001b[43m.\u001b[49m\u001b[43mconfigure_hazard\u001b[49m\u001b[43m(\u001b[49m\u001b[43m)\u001b[49m\n",
      "\u001b[36mFile \u001b[39m\u001b[32mC:\\python\\bovenregionale_strestest\\ra2ce\\network\\network_config_wrapper.py:103\u001b[39m, in \u001b[36mNetworkConfigWrapper.configure_hazard\u001b[39m\u001b[34m(self)\u001b[39m\n\u001b[32m    101\u001b[39m \u001b[38;5;66;03m# There is a hazard map or multiple hazard maps that should be intersected with the graph.\u001b[39;00m\n\u001b[32m    102\u001b[39m hazard = HazardOverlay(\u001b[38;5;28mself\u001b[39m.config_data, \u001b[38;5;28mself\u001b[39m.graph_files)\n\u001b[32m--> \u001b[39m\u001b[32m103\u001b[39m \u001b[38;5;28mself\u001b[39m.graph_files = \u001b[43mhazard\u001b[49m\u001b[43m.\u001b[49m\u001b[43mcreate\u001b[49m\u001b[43m(\u001b[49m\u001b[43m)\u001b[49m\n",
      "\u001b[36mFile \u001b[39m\u001b[32mC:\\python\\bovenregionale_strestest\\ra2ce\\network\\hazard\\hazard_overlay.py:531\u001b[39m, in \u001b[36mHazardOverlay.create\u001b[39m\u001b[34m(self)\u001b[39m\n\u001b[32m    526\u001b[39m \u001b[38;5;66;03m#### Step 1: hazard overlay of the base graph (NetworkX) ###\u001b[39;00m\n\u001b[32m    527\u001b[39m \u001b[38;5;28;01mif\u001b[39;00m (\n\u001b[32m    528\u001b[39m     \u001b[38;5;28mself\u001b[39m.graph_files.base_graph.file\n\u001b[32m    529\u001b[39m     \u001b[38;5;129;01mand\u001b[39;00m \u001b[38;5;129;01mnot\u001b[39;00m \u001b[38;5;28mself\u001b[39m.graph_files.base_graph_hazard.file\n\u001b[32m    530\u001b[39m ):\n\u001b[32m--> \u001b[39m\u001b[32m531\u001b[39m     \u001b[38;5;28mself\u001b[39m.graph_files.base_graph_hazard.graph = \u001b[38;5;28;43mself\u001b[39;49m\u001b[43m.\u001b[49m\u001b[43m_create_base_overlay\u001b[49m\u001b[43m(\u001b[49m\n\u001b[32m    532\u001b[39m \u001b[43m        \u001b[49m\u001b[38;5;28;43mself\u001b[39;49m\u001b[43m.\u001b[49m\u001b[43mgraph_files\u001b[49m\u001b[43m.\u001b[49m\u001b[43mbase_graph\u001b[49m\u001b[43m.\u001b[49m\u001b[43mget_graph\u001b[49m\u001b[43m(\u001b[49m\u001b[43m)\u001b[49m\n\u001b[32m    533\u001b[39m \u001b[43m    \u001b[49m\u001b[43m)\u001b[49m\n\u001b[32m    535\u001b[39m     \u001b[38;5;28mself\u001b[39m._export_network_files(\u001b[33m\"\u001b[39m\u001b[33mbase_graph_hazard\u001b[39m\u001b[33m\"\u001b[39m, types_to_export)\n\u001b[32m    537\u001b[39m \u001b[38;5;66;03m#### Step 2: hazard overlay of the origins_destinations (NetworkX) ###\u001b[39;00m\n",
      "\u001b[36mFile \u001b[39m\u001b[32mC:\\python\\bovenregionale_strestest\\ra2ce\\network\\hazard\\hazard_overlay.py:398\u001b[39m, in \u001b[36mHazardOverlay._create_base_overlay\u001b[39m\u001b[34m(self, base_graph)\u001b[39m\n\u001b[32m    393\u001b[39m     \u001b[38;5;66;03m# Assign the original geometries to the reprojected raster\u001b[39;00m\n\u001b[32m    394\u001b[39m     \u001b[38;5;28;01mreturn\u001b[39;00m \u001b[38;5;28mself\u001b[39m.get_original_geoms_graph(\n\u001b[32m    395\u001b[39m         base_graph, _base_graph_hazard_reprojected\n\u001b[32m    396\u001b[39m     )\n\u001b[32m--> \u001b[39m\u001b[32m398\u001b[39m \u001b[38;5;28;01mreturn\u001b[39;00m \u001b[38;5;28;43mself\u001b[39;49m\u001b[43m.\u001b[49m\u001b[43mhazard_intersect\u001b[49m\u001b[43m(\u001b[49m\u001b[43mbase_graph\u001b[49m\u001b[43m)\u001b[49m\n",
      "\u001b[36mFile \u001b[39m\u001b[32mC:\\python\\bovenregionale_strestest\\ra2ce\\network\\hazard\\hazard_overlay.py:322\u001b[39m, in \u001b[36mHazardOverlay.hazard_intersect\u001b[39m\u001b[34m(self, to_overlay)\u001b[39m\n\u001b[32m    315\u001b[39m \u001b[38;5;28;01melif\u001b[39;00m \u001b[38;5;28mself\u001b[39m.hazard_files.gpkg:\n\u001b[32m    316\u001b[39m     \u001b[38;5;28;01mreturn\u001b[39;00m HazardIntersectBuilderForGpkg(\n\u001b[32m    317\u001b[39m         hazard_field_name=\u001b[38;5;28mself\u001b[39m._hazard_field_name,\n\u001b[32m    318\u001b[39m         hazard_aggregate_wl=\u001b[38;5;28mself\u001b[39m._hazard_aggregate_wl,\n\u001b[32m    319\u001b[39m         ra2ce_names=\u001b[38;5;28mself\u001b[39m.ra2ce_names,\n\u001b[32m    320\u001b[39m         hazard_gpkg_files=\u001b[38;5;28mself\u001b[39m.hazard_files.gpkg,\n\u001b[32m    321\u001b[39m     ).get_intersection(to_overlay)\n\u001b[32m--> \u001b[39m\u001b[32m322\u001b[39m \u001b[38;5;28;01melif\u001b[39;00m \u001b[38;5;28;43mself\u001b[39;49m\u001b[43m.\u001b[49m\u001b[43mhazard_files\u001b[49m\u001b[43m[\u001b[49m\u001b[33;43m\"\u001b[39;49m\u001b[33;43mtable\u001b[39;49m\u001b[33;43m\"\u001b[39;49m\u001b[43m]\u001b[49m:\n\u001b[32m    323\u001b[39m     \u001b[38;5;28;01mreturn\u001b[39;00m HazardIntersectBuilderForTable(\n\u001b[32m    324\u001b[39m         hazard_field_name=\u001b[38;5;28mself\u001b[39m._hazard_field_name,\n\u001b[32m    325\u001b[39m         network_file_id=\u001b[38;5;28mself\u001b[39m._network_file_id,\n\u001b[32m    326\u001b[39m         hazard_id=\u001b[38;5;28mself\u001b[39m._hazard_id,\n\u001b[32m    327\u001b[39m         ra2ce_name_key=\u001b[38;5;28mself\u001b[39m._ra2ce_name_key,\n\u001b[32m    328\u001b[39m     ).get_intersection(to_overlay)\n\u001b[32m    330\u001b[39m \u001b[38;5;28;01mraise\u001b[39;00m \u001b[38;5;167;01mValueError\u001b[39;00m(\n\u001b[32m    331\u001b[39m     \u001b[33mf\u001b[39m\u001b[33m\"\u001b[39m\u001b[33mThe overlay of the combination of hazard file(s) \u001b[39m\u001b[33m'\u001b[39m\u001b[38;5;132;01m{\u001b[39;00m\u001b[38;5;28mself\u001b[39m.hazard_files\u001b[38;5;132;01m}\u001b[39;00m\u001b[33m'\u001b[39m\u001b[33m and network type \u001b[39m\u001b[33m'\u001b[39m\u001b[38;5;132;01m{\u001b[39;00m\u001b[38;5;28mtype\u001b[39m(to_overlay)\u001b[38;5;132;01m}\u001b[39;00m\u001b[33m'\u001b[39m\u001b[33m is not available.\u001b[39m\u001b[33m\"\u001b[39m\n\u001b[32m    332\u001b[39m     \u001b[33mf\u001b[39m\u001b[33m\"\u001b[39m\u001b[33mPlease check your input data.\u001b[39m\u001b[33m\"\u001b[39m\n\u001b[32m    333\u001b[39m )\n",
      "\u001b[31mTypeError\u001b[39m: 'HazardFiles' object is not subscriptable"
     ]
    }
   ],
   "source": [
    "handler = Ra2ceHandler.from_config(network_config_data, None)\n",
    "handler.configure()\n",
    "handler.run_analysis()"
   ]
  }
 ],
 "metadata": {
  "kernelspec": {
   "display_name": "ra2ce_env_brs",
   "language": "python",
   "name": "python3"
  },
  "language_info": {
   "codemirror_mode": {
    "name": "ipython",
    "version": 3
   },
   "file_extension": ".py",
   "mimetype": "text/x-python",
   "name": "python",
   "nbconvert_exporter": "python",
   "pygments_lexer": "ipython3",
   "version": "3.11.13"
  }
 },
 "nbformat": 4,
 "nbformat_minor": 2
}
