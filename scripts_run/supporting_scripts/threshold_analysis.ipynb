{
 "cells": [
  {
   "cell_type": "code",
   "execution_count": 11,
   "metadata": {},
   "outputs": [],
   "source": [
    "from pathlib import Path\n",
    "import geopandas as gpd\n",
    "import folium \n",
    "from shapely.geometry import LineString, Polygon, box, shape\n",
    "import rasterio\n",
    "import os\n",
    "import matplotlib.pyplot as plt\n",
    "import pandas as pd\n",
    "import rasterio.features"
   ]
  },
  {
   "cell_type": "code",
   "execution_count": 12,
   "metadata": {},
   "outputs": [],
   "source": [
    "region = \"Noord-Westelijke Delta\""
   ]
  },
  {
   "cell_type": "code",
   "execution_count": 13,
   "metadata": {},
   "outputs": [],
   "source": [
    "Output_dir = Path(rf\"P:\\bovenregionale-stresstest-hwn\\Analysis\\{region}\\Outputs\")"
   ]
  },
  {
   "cell_type": "code",
   "execution_count": null,
   "metadata": {},
   "outputs": [],
   "source": [
    "'''\n",
    "root_dir = Path(rf\"P:\\bovenregionale-stresstest-hwn\\Scripts\\RA2CE_Model\\data\\Test_Run\")\n",
    "\n",
    "static_path = root_dir.joinpath(\"static\") #within your root directory there should be a 'static' folder\n",
    "network_path = static_path.joinpath(\"network\") #within the static folder there should be a 'network' folder\n",
    "hazard_path = static_path.joinpath(\"hazard\") #within the static folder there should be a 'hazard' folder\n",
    "output_path = static_path.joinpath(\"output_graph\")\n",
    "assert root_dir.exists(), \"root_dir not found.\"\n",
    "\n",
    "'''"
   ]
  },
  {
   "cell_type": "code",
   "execution_count": 35,
   "metadata": {},
   "outputs": [],
   "source": [
    "hazard_graph = gpd.read_file(Output_dir.joinpath(\"base_network_hazard.gpkg\"), driver='GPKG')"
   ]
  },
  {
   "cell_type": "markdown",
   "metadata": {},
   "source": [
    "Finding thresholds that are suitable"
   ]
  },
  {
   "cell_type": "code",
   "execution_count": 43,
   "metadata": {},
   "outputs": [
    {
     "data": {
      "application/vnd.microsoft.datawrangler.viewer.v0+json": {
       "columns": [
        {
         "name": "index",
         "rawType": "int64",
         "type": "integer"
        },
        {
         "name": "fraction_threshold",
         "rawType": "float64",
         "type": "float"
        },
        {
         "name": "depth_threshold",
         "rawType": "float64",
         "type": "float"
        },
        {
         "name": "flooded_count",
         "rawType": "int64",
         "type": "integer"
        },
        {
         "name": "isolated_count",
         "rawType": "int64",
         "type": "integer"
        },
        {
         "name": "score",
         "rawType": "float64",
         "type": "float"
        },
        {
         "name": "score_norm",
         "rawType": "float64",
         "type": "float"
        },
        {
         "name": "exposure_class",
         "rawType": "object",
         "type": "string"
        }
       ],
       "ref": "003aa825-b93c-40fb-9c28-51082c01606d",
       "rows": [
        [
         "0",
         "0.0",
         "2.4555555555555553",
         "28",
         "6",
         "4.0",
         "1.0",
         "High"
        ],
        [
         "1",
         "0.2222222222222222",
         "2.4555555555555553",
         "28",
         "6",
         "4.0",
         "1.0",
         "High"
        ],
        [
         "2",
         "0.5555555555555556",
         "2.4555555555555553",
         "28",
         "6",
         "4.0",
         "1.0",
         "High"
        ],
        [
         "3",
         "0.3333333333333333",
         "2.4555555555555553",
         "28",
         "6",
         "4.0",
         "1.0",
         "High"
        ],
        [
         "4",
         "0.1111111111111111",
         "2.4555555555555553",
         "28",
         "6",
         "4.0",
         "1.0",
         "High"
        ],
        [
         "5",
         "0.4444444444444444",
         "2.4555555555555553",
         "28",
         "6",
         "4.0",
         "1.0",
         "High"
        ],
        [
         "6",
         "0.2222222222222222",
         "0.3",
         "179",
         "44",
         "3.977777777777778",
         "0.9944444444444445",
         "High"
        ],
        [
         "7",
         "0.0",
         "0.3",
         "188",
         "47",
         "3.9166666666666665",
         "0.9791666666666666",
         "High"
        ],
        [
         "8",
         "0.3333333333333333",
         "1.3777777777777778",
         "57",
         "14",
         "3.8",
         "0.95",
         "High"
        ],
        [
         "9",
         "0.4444444444444444",
         "1.3777777777777778",
         "57",
         "14",
         "3.8",
         "0.95",
         "High"
        ],
        [
         "10",
         "0.5555555555555556",
         "1.3777777777777778",
         "57",
         "14",
         "3.8",
         "0.95",
         "High"
        ],
        [
         "11",
         "0.1111111111111111",
         "0.3",
         "186",
         "48",
         "3.795918367346939",
         "0.9489795918367347",
         "High"
        ],
        [
         "12",
         "0.3333333333333333",
         "0.3",
         "176",
         "46",
         "3.74468085106383",
         "0.9361702127659575",
         "High"
        ],
        [
         "13",
         "0.4444444444444444",
         "0.3",
         "160",
         "42",
         "3.7209302325581395",
         "0.9302325581395349",
         "High"
        ],
        [
         "14",
         "0.2222222222222222",
         "1.3777777777777778",
         "58",
         "15",
         "3.625",
         "0.90625",
         "High"
        ],
        [
         "15",
         "0.6666666666666666",
         "0.3",
         "124",
         "34",
         "3.5428571428571427",
         "0.8857142857142857",
         "High"
        ],
        [
         "16",
         "0.6666666666666666",
         "1.3777777777777778",
         "53",
         "14",
         "3.533333333333333",
         "0.8833333333333333",
         "High"
        ],
        [
         "17",
         "0.1111111111111111",
         "1.3777777777777778",
         "59",
         "16",
         "3.4705882352941178",
         "0.8676470588235294",
         "High"
        ],
        [
         "18",
         "0.0",
         "1.3777777777777778",
         "59",
         "16",
         "3.4705882352941178",
         "0.8676470588235294",
         "High"
        ],
        [
         "19",
         "0.5555555555555556",
         "0.3",
         "149",
         "43",
         "3.3863636363636362",
         "0.8465909090909091",
         "High"
        ],
        [
         "20",
         "0.7777777777777777",
         "0.3",
         "91",
         "29",
         "3.033333333333333",
         "0.7583333333333333",
         "Moderate"
        ],
        [
         "21",
         "0.8888888888888888",
         "1.3777777777777778",
         "40",
         "13",
         "2.857142857142857",
         "0.7142857142857143",
         "Moderate"
        ],
        [
         "22",
         "0.7777777777777777",
         "1.3777777777777778",
         "46",
         "16",
         "2.7058823529411766",
         "0.6764705882352942",
         "Moderate"
        ],
        [
         "23",
         "0.8888888888888888",
         "0.3",
         "71",
         "27",
         "2.5357142857142856",
         "0.6339285714285714",
         "Moderate"
        ],
        [
         "24",
         "0.6666666666666666",
         "2.4555555555555553",
         "26",
         "10",
         "2.3636363636363638",
         "0.5909090909090909",
         "Moderate"
        ],
        [
         "25",
         "0.8888888888888888",
         "3.533333333333333",
         "14",
         "5",
         "2.3333333333333335",
         "0.5833333333333334",
         "Moderate"
        ],
        [
         "26",
         "0.7777777777777777",
         "3.533333333333333",
         "14",
         "5",
         "2.3333333333333335",
         "0.5833333333333334",
         "Moderate"
        ],
        [
         "27",
         "0.8888888888888888",
         "2.4555555555555553",
         "23",
         "10",
         "2.090909090909091",
         "0.5227272727272727",
         "Moderate"
        ],
        [
         "28",
         "0.7777777777777777",
         "2.4555555555555553",
         "23",
         "10",
         "2.090909090909091",
         "0.5227272727272727",
         "Moderate"
        ],
        [
         "29",
         "0.4444444444444444",
         "3.533333333333333",
         "16",
         "7",
         "2.0",
         "0.5",
         "Moderate"
        ],
        [
         "30",
         "0.6666666666666666",
         "3.533333333333333",
         "16",
         "7",
         "2.0",
         "0.5",
         "Moderate"
        ],
        [
         "31",
         "0.1111111111111111",
         "3.533333333333333",
         "16",
         "7",
         "2.0",
         "0.5",
         "Moderate"
        ],
        [
         "32",
         "0.8888888888888888",
         "4.611111111111111",
         "8",
         "3",
         "2.0",
         "0.5",
         "Moderate"
        ],
        [
         "33",
         "0.3333333333333333",
         "3.533333333333333",
         "16",
         "7",
         "2.0",
         "0.5",
         "Moderate"
        ],
        [
         "34",
         "0.0",
         "3.533333333333333",
         "16",
         "7",
         "2.0",
         "0.5",
         "Moderate"
        ],
        [
         "35",
         "0.7777777777777777",
         "4.611111111111111",
         "8",
         "3",
         "2.0",
         "0.5",
         "Moderate"
        ],
        [
         "36",
         "0.5555555555555556",
         "3.533333333333333",
         "16",
         "7",
         "2.0",
         "0.5",
         "Moderate"
        ],
        [
         "37",
         "0.2222222222222222",
         "3.533333333333333",
         "16",
         "7",
         "2.0",
         "0.5",
         "Moderate"
        ],
        [
         "38",
         "0.3333333333333333",
         "4.611111111111111",
         "9",
         "4",
         "1.8",
         "0.45",
         "Moderate"
        ],
        [
         "39",
         "0.1111111111111111",
         "4.611111111111111",
         "9",
         "4",
         "1.8",
         "0.45",
         "Moderate"
        ],
        [
         "40",
         "0.6666666666666666",
         "4.611111111111111",
         "9",
         "4",
         "1.8",
         "0.45",
         "Moderate"
        ],
        [
         "41",
         "0.2222222222222222",
         "4.611111111111111",
         "9",
         "4",
         "1.8",
         "0.45",
         "Moderate"
        ],
        [
         "42",
         "0.4444444444444444",
         "4.611111111111111",
         "9",
         "4",
         "1.8",
         "0.45",
         "Moderate"
        ],
        [
         "43",
         "0.5555555555555556",
         "4.611111111111111",
         "9",
         "4",
         "1.8",
         "0.45",
         "Moderate"
        ],
        [
         "44",
         "0.0",
         "4.611111111111111",
         "9",
         "4",
         "1.8",
         "0.45",
         "Moderate"
        ],
        [
         "45",
         "0.8888888888888888",
         "5.688888888888888",
         "5",
         "3",
         "1.25",
         "0.3125",
         "Low"
        ],
        [
         "46",
         "0.0",
         "5.688888888888888",
         "5",
         "3",
         "1.25",
         "0.3125",
         "Low"
        ],
        [
         "47",
         "0.5555555555555556",
         "5.688888888888888",
         "5",
         "3",
         "1.25",
         "0.3125",
         "Low"
        ],
        [
         "48",
         "0.4444444444444444",
         "5.688888888888888",
         "5",
         "3",
         "1.25",
         "0.3125",
         "Low"
        ],
        [
         "49",
         "0.6666666666666666",
         "5.688888888888888",
         "5",
         "3",
         "1.25",
         "0.3125",
         "Low"
        ]
       ],
       "shape": {
        "columns": 7,
        "rows": 100
       }
      },
      "text/html": [
       "<div>\n",
       "<style scoped>\n",
       "    .dataframe tbody tr th:only-of-type {\n",
       "        vertical-align: middle;\n",
       "    }\n",
       "\n",
       "    .dataframe tbody tr th {\n",
       "        vertical-align: top;\n",
       "    }\n",
       "\n",
       "    .dataframe thead th {\n",
       "        text-align: right;\n",
       "    }\n",
       "</style>\n",
       "<table border=\"1\" class=\"dataframe\">\n",
       "  <thead>\n",
       "    <tr style=\"text-align: right;\">\n",
       "      <th></th>\n",
       "      <th>fraction_threshold</th>\n",
       "      <th>depth_threshold</th>\n",
       "      <th>flooded_count</th>\n",
       "      <th>isolated_count</th>\n",
       "      <th>score</th>\n",
       "      <th>score_norm</th>\n",
       "      <th>exposure_class</th>\n",
       "    </tr>\n",
       "  </thead>\n",
       "  <tbody>\n",
       "    <tr>\n",
       "      <th>0</th>\n",
       "      <td>0.000000</td>\n",
       "      <td>2.455556</td>\n",
       "      <td>28</td>\n",
       "      <td>6</td>\n",
       "      <td>4.0</td>\n",
       "      <td>1.0</td>\n",
       "      <td>High</td>\n",
       "    </tr>\n",
       "    <tr>\n",
       "      <th>1</th>\n",
       "      <td>0.222222</td>\n",
       "      <td>2.455556</td>\n",
       "      <td>28</td>\n",
       "      <td>6</td>\n",
       "      <td>4.0</td>\n",
       "      <td>1.0</td>\n",
       "      <td>High</td>\n",
       "    </tr>\n",
       "    <tr>\n",
       "      <th>2</th>\n",
       "      <td>0.555556</td>\n",
       "      <td>2.455556</td>\n",
       "      <td>28</td>\n",
       "      <td>6</td>\n",
       "      <td>4.0</td>\n",
       "      <td>1.0</td>\n",
       "      <td>High</td>\n",
       "    </tr>\n",
       "    <tr>\n",
       "      <th>3</th>\n",
       "      <td>0.333333</td>\n",
       "      <td>2.455556</td>\n",
       "      <td>28</td>\n",
       "      <td>6</td>\n",
       "      <td>4.0</td>\n",
       "      <td>1.0</td>\n",
       "      <td>High</td>\n",
       "    </tr>\n",
       "    <tr>\n",
       "      <th>4</th>\n",
       "      <td>0.111111</td>\n",
       "      <td>2.455556</td>\n",
       "      <td>28</td>\n",
       "      <td>6</td>\n",
       "      <td>4.0</td>\n",
       "      <td>1.0</td>\n",
       "      <td>High</td>\n",
       "    </tr>\n",
       "    <tr>\n",
       "      <th>...</th>\n",
       "      <td>...</td>\n",
       "      <td>...</td>\n",
       "      <td>...</td>\n",
       "      <td>...</td>\n",
       "      <td>...</td>\n",
       "      <td>...</td>\n",
       "      <td>...</td>\n",
       "    </tr>\n",
       "    <tr>\n",
       "      <th>95</th>\n",
       "      <td>0.555556</td>\n",
       "      <td>10.000000</td>\n",
       "      <td>0</td>\n",
       "      <td>0</td>\n",
       "      <td>0.0</td>\n",
       "      <td>0.0</td>\n",
       "      <td>Low</td>\n",
       "    </tr>\n",
       "    <tr>\n",
       "      <th>96</th>\n",
       "      <td>0.111111</td>\n",
       "      <td>8.922222</td>\n",
       "      <td>0</td>\n",
       "      <td>0</td>\n",
       "      <td>0.0</td>\n",
       "      <td>0.0</td>\n",
       "      <td>Low</td>\n",
       "    </tr>\n",
       "    <tr>\n",
       "      <th>97</th>\n",
       "      <td>0.666667</td>\n",
       "      <td>7.844444</td>\n",
       "      <td>0</td>\n",
       "      <td>0</td>\n",
       "      <td>0.0</td>\n",
       "      <td>0.0</td>\n",
       "      <td>Low</td>\n",
       "    </tr>\n",
       "    <tr>\n",
       "      <th>98</th>\n",
       "      <td>0.666667</td>\n",
       "      <td>8.922222</td>\n",
       "      <td>0</td>\n",
       "      <td>0</td>\n",
       "      <td>0.0</td>\n",
       "      <td>0.0</td>\n",
       "      <td>Low</td>\n",
       "    </tr>\n",
       "    <tr>\n",
       "      <th>99</th>\n",
       "      <td>1.000000</td>\n",
       "      <td>10.000000</td>\n",
       "      <td>0</td>\n",
       "      <td>0</td>\n",
       "      <td>0.0</td>\n",
       "      <td>0.0</td>\n",
       "      <td>Low</td>\n",
       "    </tr>\n",
       "  </tbody>\n",
       "</table>\n",
       "<p>100 rows × 7 columns</p>\n",
       "</div>"
      ],
      "text/plain": [
       "    fraction_threshold  depth_threshold  flooded_count  isolated_count  score  \\\n",
       "0             0.000000         2.455556             28               6    4.0   \n",
       "1             0.222222         2.455556             28               6    4.0   \n",
       "2             0.555556         2.455556             28               6    4.0   \n",
       "3             0.333333         2.455556             28               6    4.0   \n",
       "4             0.111111         2.455556             28               6    4.0   \n",
       "..                 ...              ...            ...             ...    ...   \n",
       "95            0.555556        10.000000              0               0    0.0   \n",
       "96            0.111111         8.922222              0               0    0.0   \n",
       "97            0.666667         7.844444              0               0    0.0   \n",
       "98            0.666667         8.922222              0               0    0.0   \n",
       "99            1.000000        10.000000              0               0    0.0   \n",
       "\n",
       "    score_norm exposure_class  \n",
       "0          1.0           High  \n",
       "1          1.0           High  \n",
       "2          1.0           High  \n",
       "3          1.0           High  \n",
       "4          1.0           High  \n",
       "..         ...            ...  \n",
       "95         0.0            Low  \n",
       "96         0.0            Low  \n",
       "97         0.0            Low  \n",
       "98         0.0            Low  \n",
       "99         0.0            Low  \n",
       "\n",
       "[100 rows x 7 columns]"
      ]
     },
     "metadata": {},
     "output_type": "display_data"
    },
    {
     "data": {
      "image/png": "[encoded data removed]",
      "text/plain": [
       "<Figure size 800x600 with 2 Axes>"
      ]
     },
     "metadata": {},
     "output_type": "display_data"
    }
   ],
   "source": [
    "import geopandas as gpd\n",
    "import pandas as pd\n",
    "import numpy as np\n",
    "import matplotlib.pyplot as plt\n",
    "import seaborn as sns  # Make sure seaborn is installed\n",
    "\n",
    "# --- Parameters ---\n",
    "zone_column = 'zone'  # Optional: column name for spatial aggregation\n",
    "fraction_range = np.linspace(0, 1, 10)\n",
    "depth_range = np.linspace(0.3, 10, 10)\n",
    "\n",
    "# --- Step 1: Load your data ---\n",
    "gdf_original = hazard_graph.copy()\n",
    "\n",
    "# --- Step 2: Sensitivity analysis ---\n",
    "results = []\n",
    "\n",
    "for f_thresh in fraction_range:\n",
    "    for d_thresh in depth_range:\n",
    "        gdf = gdf_original.copy()\n",
    "        gdf['is_flooded'] = (gdf['EV1_fr'] > f_thresh) & (gdf['EV1_me'] > d_thresh)\n",
    "\n",
    "        # Identify isolated flooded segments\n",
    "        def is_isolated(index, flooded_series):\n",
    "            if not flooded_series.iloc[index]:\n",
    "                return False\n",
    "            neighbors = []\n",
    "            if index > 0:\n",
    "                neighbors.append(flooded_series.iloc[index - 1])\n",
    "            if index < len(flooded_series) - 1:\n",
    "                neighbors.append(flooded_series.iloc[index + 1])\n",
    "            return not any(neighbors)\n",
    "\n",
    "        gdf['is_isolated'] = [is_isolated(i, gdf['is_flooded']) for i in range(len(gdf))]\n",
    "\n",
    "        flooded_count = gdf['is_flooded'].sum()\n",
    "        isolated_count = gdf['is_isolated'].sum()\n",
    "        score = flooded_count / (1 + isolated_count)\n",
    "\n",
    "        results.append({\n",
    "            'fraction_threshold': f_thresh,\n",
    "            'depth_threshold': d_thresh,\n",
    "            'flooded_count': flooded_count,\n",
    "            'isolated_count': isolated_count,\n",
    "            'score': score\n",
    "        })\n",
    "\n",
    "# --- Step 3: Create DataFrame and classify exposure ---\n",
    "results_df = pd.DataFrame(results)\n",
    "\n",
    "# Normalize score for classification\n",
    "results_df['score_norm'] = (results_df['score'] - results_df['score'].min()) / (results_df['score'].max() - results_df['score'].min())\n",
    "\n",
    "# Classify exposure levels\n",
    "def classify_exposure(score):\n",
    "    if score >= 0.8:\n",
    "        return 'High'\n",
    "    elif score >= 0.4:\n",
    "        return 'Moderate'\n",
    "    else:\n",
    "        return 'Low'\n",
    "\n",
    "results_df['exposure_class'] = results_df['score_norm'].apply(classify_exposure)\n",
    "\n",
    "# --- Step 4: Display ranked results ---\n",
    "results_df = results_df.sort_values(by='score', ascending=False).reset_index(drop=True)\n",
    "display(results_df)\n",
    "\n",
    "# --- Step 5: Optional heatmap visualization ---\n",
    "pivot = results_df.pivot(index='depth_threshold', columns='fraction_threshold', values='score')\n",
    "plt.figure(figsize=(8, 6))\n",
    "plt.title('Balanced Score Heatmap')\n",
    "sns.heatmap(pivot, annot=True, cmap='YlGnBu')\n",
    "plt.xlabel('Fraction Threshold')\n",
    "plt.ylabel('Depth Threshold')\n",
    "plt.tight_layout()\n",
    "plt.show()\n"
   ]
  },
  {
   "cell_type": "code",
   "execution_count": null,
   "metadata": {},
   "outputs": [],
   "source": []
  },
  {
   "cell_type": "code",
   "execution_count": null,
   "metadata": {},
   "outputs": [
    {
     "ename": "AttributeError",
     "evalue": "'list' object has no attribute 'set_crs'",
     "output_type": "error",
     "traceback": [
      "\u001b[31m---------------------------------------------------------------------------\u001b[39m",
      "\u001b[31mAttributeError\u001b[39m                            Traceback (most recent call last)",
      "\u001b[36mCell\u001b[39m\u001b[36m \u001b[39m\u001b[32mIn[39]\u001b[39m\u001b[32m, line 2\u001b[39m\n\u001b[32m      1\u001b[39m gdf = results\n\u001b[32m----> \u001b[39m\u001b[32m2\u001b[39m gdf = \u001b[43mgdf\u001b[49m\u001b[43m.\u001b[49m\u001b[43mset_crs\u001b[49m(\u001b[33m\"\u001b[39m\u001b[33mEPSG:28992\u001b[39m\u001b[33m\"\u001b[39m, allow_override=\u001b[38;5;28;01mTrue\u001b[39;00m)\n\u001b[32m      3\u001b[39m gdf.to_file(Output_dir.joinpath(\u001b[33m\"\u001b[39m\u001b[33mflooded_segments_ver02.gpkg\u001b[39m\u001b[33m\"\u001b[39m), driver=\u001b[33m'\u001b[39m\u001b[33mGPKG\u001b[39m\u001b[33m'\u001b[39m)\n",
      "\u001b[31mAttributeError\u001b[39m: 'list' object has no attribute 'set_crs'"
     ]
    }
   ],
   "source": [
    "\n",
    "gdf = gdf.set_crs(\"EPSG:28992\", allow_override=True)\n",
    "gdf.to_file(Output_dir.joinpath(\"flooded_segments_ver02.gpkg\"), driver='GPKG')\n"
   ]
  },
  {
   "cell_type": "code",
   "execution_count": 41,
   "metadata": {},
   "outputs": [],
   "source": [
    "#Selected thresholds\n",
    "\n",
    "# --- Parameters ---\n",
    "fraction_threshold = 0.5    # Minimum fraction flooded\n",
    "depth_threshold = 0.5     # Minimum mean depth\n",
    "zone_column = 'zone'      # Optional: column name for spatial aggregation"
   ]
  },
  {
   "cell_type": "markdown",
   "metadata": {},
   "source": [
    "Determine for each segment if we should consider it 'flooded' based on a combination of threshold and whether the segment is 'isolated' in its floodedness"
   ]
  },
  {
   "cell_type": "code",
   "execution_count": 42,
   "metadata": {},
   "outputs": [],
   "source": [
    "# --- Step 1: Load your data ---\n",
    "gdf = hazard_graph.copy()\n",
    "\n",
    "# --- Step 2: Filter flooded segments ---\n",
    "gdf['is_flooded'] = (gdf['EV1_fr'] > fraction_threshold) & (gdf['EV1_me'] > depth_threshold)\n",
    "\n",
    "# --- Step 3: Identify isolated flooded segments ---\n",
    "def is_isolated(index, flooded_series):\n",
    "    if not flooded_series.iloc[index]:\n",
    "        return False\n",
    "    neighbors = []\n",
    "    if index > 0:\n",
    "        neighbors.append(flooded_series.iloc[index - 1])\n",
    "    if index < len(flooded_series) - 1:\n",
    "        neighbors.append(flooded_series.iloc[index + 1])\n",
    "    return not any(neighbors)\n",
    "\n",
    "gdf['is_isolated'] = [is_isolated(i, gdf['is_flooded']) for i in range(len(gdf))]\n",
    "\n",
    "# --- Step 4: Optional aggregation to zones ---\n",
    "if zone_column in gdf.columns:\n",
    "    zone_summary = gdf.groupby(zone_column).agg({\n",
    "        'mean_depth': 'mean',\n",
    "        'max_depth': 'max',\n",
    "        'fraction_flooded': 'mean',\n",
    "        'is_flooded': 'sum',\n",
    "        'is_isolated': 'sum',\n",
    "        # Example: keep first value of a non-numeric column\n",
    "        'some_other_column': 'first'\n",
    "    }).reset_index()\n",
    "\n",
    "    # Optional: merge back to original GeoDataFrame\n",
    "    gdf = gdf.merge(zone_summary, on=zone_column, suffixes=('', '_zone_summary'))\n",
    "\n",
    "    print(\"Zone-level summary:\")\n",
    "    print(zone_summary)"
   ]
  },
  {
   "cell_type": "code",
   "execution_count": 23,
   "metadata": {},
   "outputs": [
    {
     "name": "stdout",
     "output_type": "stream",
     "text": [
      "Index(['link_id', 'REF_ID', 'highway', 'avgspeed', 'lanes', 'id_NWB',\n",
      "       'BST_CODE_N', 'NWSNAAM_HW', 'NETWERKSCH', 'node_A', 'node_B',\n",
      "       'edge_fid', 'rfid_c', 'rfid', 'length', 'time', 'EV1_mi', 'EV1_ma',\n",
      "       'EV1_me', 'EV1_fr', 'EV2_mi', 'EV2_ma', 'EV2_me', 'EV2_fr', 'geometry',\n",
      "       'is_flooded', 'is_isolated'],\n",
      "      dtype='object')\n"
     ]
    }
   ],
   "source": [
    "print(gdf.columns)"
   ]
  },
  {
   "cell_type": "code",
   "execution_count": 31,
   "metadata": {},
   "outputs": [
    {
     "ename": "CPLE_AppDefinedError",
     "evalue": "b'sqlite3_exec(CREATE TABLE gpkg_extensions (table_name TEXT,column_name TEXT,extension_name TEXT NOT NULL,definition TEXT NOT NULL,scope TEXT NOT NULL,CONSTRAINT ge_tce UNIQUE (table_name, column_name, extension_name))) failed: table gpkg_extensions already exists'",
     "output_type": "error",
     "traceback": [
      "\u001b[31m---------------------------------------------------------------------------\u001b[39m",
      "\u001b[31mCPLE_AppDefinedError\u001b[39m                      Traceback (most recent call last)",
      "\u001b[36mFile \u001b[39m\u001b[32mfiona\\_err.pyx:201\u001b[39m, in \u001b[36mfiona._err.GDALErrCtxManager.__exit__\u001b[39m\u001b[34m()\u001b[39m\n",
      "\u001b[31mCPLE_AppDefinedError\u001b[39m: b'sqlite3_exec(CREATE TABLE gpkg_extensions (table_name TEXT,column_name TEXT,extension_name TEXT NOT NULL,definition TEXT NOT NULL,scope TEXT NOT NULL,CONSTRAINT ge_tce UNIQUE (table_name, column_name, extension_name))) failed: table gpkg_extensions already exists'"
     ]
    },
    {
     "name": "stderr",
     "output_type": "stream",
     "text": [
      "Exception ignored in: 'fiona._shim.gdal_flush_cache'\n",
      "Traceback (most recent call last):\n",
      "  File \"fiona\\_err.pyx\", line 201, in fiona._err.GDALErrCtxManager.__exit__\n",
      "fiona._err.CPLE_AppDefinedError: b'sqlite3_exec(CREATE TABLE gpkg_extensions (table_name TEXT,column_name TEXT,extension_name TEXT NOT NULL,definition TEXT NOT NULL,scope TEXT NOT NULL,CONSTRAINT ge_tce UNIQUE (table_name, column_name, extension_name))) failed: table gpkg_extensions already exists'\n"
     ]
    }
   ],
   "source": [
    "# Aggregate gdf on NETWERKSCH for EV columns\n",
    "\n",
    "# Dissolve geometries based on NETWERKSCH\n",
    "gdf_dissolved = gdf.dissolve(by='NETWERKSCH', as_index=False)\n",
    "\n",
    "# Aggregate EV columns (mean, max, median)\n",
    "ev_cols = [col for col in gdf.columns if col.startswith('EV')]\n",
    "agg_dict = {col: ['mean', 'max', 'median'] for col in ev_cols}\n",
    "gdf_stats = gdf.groupby('NETWERKSCH').agg(agg_dict)\n",
    "gdf_stats.columns = [f\"{col}_{stat}\" for col, stat in gdf_stats.columns]\n",
    "gdf_stats = gdf_stats.reset_index()\n",
    "\n",
    "# Merge aggregated stats with dissolved geometries\n",
    "gdf_agg = gdf_dissolved.merge(gdf_stats, on='NETWERKSCH', how='left')\n",
    "gdf_agg = gpd.GeoDataFrame(gdf_agg, geometry='geometry', crs=gdf.crs)\n",
    "\n",
    "# Save to file\n",
    "gdf_agg = gdf_agg.set_crs(\"EPSG:28992\", allow_override=True)\n",
    "gdf_agg.to_file(Output_dir.joinpath(\"Aggregated_flooded_segments.gpkg\"), driver='GPKG')"
   ]
  },
  {
   "cell_type": "code",
   "execution_count": 30,
   "metadata": {},
   "outputs": [
    {
     "ename": "CPLE_AppDefinedError",
     "evalue": "b'sqlite3_exec(CREATE TABLE gpkg_extensions (table_name TEXT,column_name TEXT,extension_name TEXT NOT NULL,definition TEXT NOT NULL,scope TEXT NOT NULL,CONSTRAINT ge_tce UNIQUE (table_name, column_name, extension_name))) failed: table gpkg_extensions already exists'",
     "output_type": "error",
     "traceback": [
      "\u001b[31m---------------------------------------------------------------------------\u001b[39m",
      "\u001b[31mCPLE_AppDefinedError\u001b[39m                      Traceback (most recent call last)",
      "\u001b[36mFile \u001b[39m\u001b[32mfiona\\_err.pyx:201\u001b[39m, in \u001b[36mfiona._err.GDALErrCtxManager.__exit__\u001b[39m\u001b[34m()\u001b[39m\n",
      "\u001b[31mCPLE_AppDefinedError\u001b[39m: b'sqlite3_exec(CREATE TABLE gpkg_extensions (table_name TEXT,column_name TEXT,extension_name TEXT NOT NULL,definition TEXT NOT NULL,scope TEXT NOT NULL,CONSTRAINT ge_tce UNIQUE (table_name, column_name, extension_name))) failed: table gpkg_extensions already exists'"
     ]
    },
    {
     "name": "stderr",
     "output_type": "stream",
     "text": [
      "Exception ignored in: 'fiona._shim.gdal_flush_cache'\n",
      "Traceback (most recent call last):\n",
      "  File \"fiona\\_err.pyx\", line 201, in fiona._err.GDALErrCtxManager.__exit__\n",
      "fiona._err.CPLE_AppDefinedError: b'sqlite3_exec(CREATE TABLE gpkg_extensions (table_name TEXT,column_name TEXT,extension_name TEXT NOT NULL,definition TEXT NOT NULL,scope TEXT NOT NULL,CONSTRAINT ge_tce UNIQUE (table_name, column_name, extension_name))) failed: table gpkg_extensions already exists'\n"
     ]
    }
   ],
   "source": [
    "gdf_agg = gdf_agg.set_crs(\"EPSG:28992\", allow_override=True)\n",
    "gdf_agg.to_file(Output_dir.joinpath(\"Aggregated_flooded_segments.gpkg\"), driver='GPKG')"
   ]
  }
 ],
 "metadata": {
  "kernelspec": {
   "display_name": "ra2ce_env_brs",
   "language": "python",
   "name": "python3"
  },
  "language_info": {
   "codemirror_mode": {
    "name": "ipython",
    "version": 3
   },
   "file_extension": ".py",
   "mimetype": "text/x-python",
   "name": "python",
   "nbconvert_exporter": "python",
   "pygments_lexer": "ipython3",
   "version": "3.11.13"
  }
 },
 "nbformat": 4,
 "nbformat_minor": 2
}
