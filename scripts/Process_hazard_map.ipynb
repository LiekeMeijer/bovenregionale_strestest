{
 "cells": [
  {
   "attachments": {},
   "cell_type": "markdown",
   "id": "e0bf8629",
   "metadata": {},
   "source": [
    "# Nieuwe methode proberen"
   ]
  },
  {
   "cell_type": "markdown",
   "id": "327bcdfb",
   "metadata": {},
   "source": [
    "Do your imports"
   ]
  },
  {
   "cell_type": "code",
   "execution_count": 1,
   "id": "e67d001f",
   "metadata": {},
   "outputs": [
    {
     "name": "stderr",
     "output_type": "stream",
     "text": [
      "c:\\Users\\meije_le\\AppData\\Local\\miniforge3\\envs\\ra2ce_env\\Lib\\site-packages\\tqdm\\auto.py:21: TqdmWarning: IProgress not found. Please update jupyter and ipywidgets. See https://ipywidgets.readthedocs.io/en/stable/user_install.html\n",
      "  from .autonotebook import tqdm as notebook_tqdm\n"
     ]
    }
   ],
   "source": [
    "from pathlib import Path\n",
    "import geopandas as gpd\n",
    "import folium \n",
    "from shapely.geometry import LineString, Polygon, box\n",
    "import rasterio\n",
    "import matplotlib.pyplot as plt\n",
    "from shapely.geometry import shape\n",
    "import geopandas as gpd\n",
    "import pandas as pd\n",
    "from pathlib import Path\n",
    "import pickle\n",
    "from ra2ce.network.network_config_data.enums.aggregate_wl_enum import AggregateWlEnum\n",
    "from ra2ce.network.network_config_data.enums.source_enum import SourceEnum\n",
    "from ra2ce.network.network_config_data.network_config_data import (\n",
    "    HazardSection,\n",
    "    NetworkConfigData,\n",
    "    NetworkSection,\n",
    "    OriginsDestinationsSection\n",
    ")\n",
    "\n",
    "#RA2CE IMPORTS\n",
    "from ra2ce.network.network_config_data.enums.network_type_enum import NetworkTypeEnum\n",
    "from ra2ce.network.network_config_data.enums.road_type_enum import RoadTypeEnum\n",
    "from ra2ce.network.network_config_data.network_config_data import (NetworkConfigData,NetworkSection,)\n",
    "from ra2ce.network.network_wrappers.osm_network_wrapper.osm_network_wrapper import (OsmNetworkWrapper,)\n",
    "from ra2ce.network.exporters.geodataframe_network_exporter import GeoDataFrameNetworkExporter\n",
    "from ra2ce.network.exporters.multi_graph_network_exporter import MultiGraphNetworkExporter\n",
    "from ra2ce.ra2ce_handler import Ra2ceHandler\n",
    "\n",
    "# from ra2ce.configuration.config_wrapper import ConfigWrapper\n",
    "# from ra2ce.analysis.analysis_config_wrapper import AnalysisConfigWrapper\n",
    "# from ra2ce.analysis.analysis_config_data.analysis_config_data import AnalysisConfigData\n",
    "\n",
    "# from ra2ce.analysis.analysis_config_data.analysis_config_data import AnalysisSectionBase, AnalysisSectionLosses, ProjectSection\n",
    "# from ra2ce.analysis.analysis_config_data.enums.analysis_damages_enum import AnalysisDamagesEnum\n",
    "# from ra2ce.analysis.analysis_config_data.enums.analysis_losses_enum import AnalysisLossesEnum\n",
    "# from ra2ce.analysis.analysis_config_data.enums.damage_curve_enum import DamageCurveEnum\n",
    "# from ra2ce.analysis.analysis_config_data.enums.event_type_enum import EventTypeEnum\n",
    "# from ra2ce.analysis.analysis_config_data.enums.weighing_enum import WeighingEnum\n",
    "# from ra2ce.analysis.losses.multi_link_origin_closest_destination import MultiLinkOriginClosestDestination\n",
    "# from ra2ce.network.network_config_data.enums.road_type_enum import RoadTypeEnum\n",
    "# from ra2ce.network.network_config_wrapper import NetworkConfigWrapper\n",
    "# from ra2ce.network.graph_files.graph_files_collection import GraphFilesCollection\n",
    "# from ra2ce.network.graph_files.graph_file import GraphFile\n",
    "# from ra2ce.network.graph_files.network_file import NetworkFile\n",
    "# from ra2ce.network.hazard.hazard_names import HazardNames\n",
    "# import ra2ce.network.networks_utils as nut\n"
   ]
  },
  {
   "cell_type": "code",
   "execution_count": 3,
   "id": "737dfbc2",
   "metadata": {},
   "outputs": [],
   "source": [
    "# specify the name of the path to the project folder where you created the RA2CE folder setup\n",
    "\n",
    "root_dir = Path(r'C:\\python\\powerpath\\data')\n",
    "assert root_dir.exists()\n",
    "static_path = root_dir.joinpath(\"static\")\n",
    "hazard_path = static_path.joinpath(\"hazard\")\n",
    "network_path = static_path.joinpath(\"network\")\n",
    "output_path = static_path.joinpath(\"output_graph\")\n"
   ]
  },
  {
   "cell_type": "markdown",
   "id": "34104437",
   "metadata": {},
   "source": [
    "# Data pre-processing"
   ]
  },
  {
   "cell_type": "code",
   "execution_count": 5,
   "id": "00c9dfa0",
   "metadata": {},
   "outputs": [],
   "source": [
    "# some preliminary functions\n",
    "\n",
    "def get_all_files(directory: str) -> list[Path]:\n",
    "    p = Path(directory)\n",
    "    return [file for file in p.iterdir() if file.is_file()]\n",
    "\n",
    "def read_pickle(file_path: str):\n",
    "    with open(file_path, 'rb') as file:\n",
    "        data = pickle.load(file)\n",
    "    return data\n",
    "\n",
    "def read_gpkg_to_gdf(file_path: str, layer: str = None) -> gpd.GeoDataFrame:\n",
    "    # Read the geopackage file into a GeoDataFrame\n",
    "    gdf = gpd.read_file(file_path, layer=layer)\n",
    "    return gdf"
   ]
  },
  {
   "cell_type": "code",
   "execution_count": 6,
   "id": "861b1e0f",
   "metadata": {},
   "outputs": [
    {
     "name": "stdout",
     "output_type": "stream",
     "text": [
      "C:\\python\\powerpath\\data\\static\\hazard\\clipped_hazard_map.tif\n",
      "C:\\python\\powerpath\\data\\static\\hazard\\clipped_hazard_map.tif.aux.xml\n",
      "C:\\python\\powerpath\\data\\static\\hazard\\delfland_ghg200m_wgs84.tif\n"
     ]
    }
   ],
   "source": [
    "hazard_files = get_all_files(hazard_path)\n",
    "hazard_crs = \"EPSG:4326\" # for the hackathon case => \"EPSG:4326\" \n",
    "\n",
    "for hazard_file in hazard_files:\n",
    "    print (hazard_file)"
   ]
  },
  {
   "cell_type": "markdown",
   "id": "85bf2536",
   "metadata": {},
   "source": [
    "# First check if there are values below 0 and if so process it"
   ]
  },
  {
   "cell_type": "code",
   "execution_count": 7,
   "id": "9fa89bab",
   "metadata": {},
   "outputs": [],
   "source": [
    "import rasterio\n",
    "import numpy as np\n",
    "from pathlib import Path\n",
    "\n",
    "# Function to process each raster file\n",
    "def process_raster(hazard_file, output_dir):\n",
    "    with rasterio.open(hazard_file) as src:\n",
    "        # Read the data\n",
    "        data = src.read(1)\n",
    "        \n",
    "        # Check if there are any values below zero\n",
    "        if not np.any(data < 0):\n",
    "            print(f\"There are no no data values in {hazard_file.name}\")\n",
    "            return  # Skip processing\n",
    "        \n",
    "        # Create a mask for values below zero\n",
    "        mask = data < 0\n",
    "        \n",
    "        # Set values below zero to NoData\n",
    "        data[mask] = src.nodata\n",
    "        \n",
    "        # Update the metadata to reflect changes\n",
    "        meta = src.meta.copy()\n",
    "        \n",
    "        # Write the modified data to a new file in the output directory\n",
    "        output_file = output_dir / f\"{hazard_file.stem}_processed.tif\"\n",
    "        with rasterio.open(output_file, 'w', **meta) as dst:\n",
    "            dst.write(data, 1)\n",
    "        \n",
    "        print(f\"Processed {hazard_file} to {output_file}\")\n",
    "\n"
   ]
  },
  {
   "cell_type": "code",
   "execution_count": null,
   "id": "6ed6c27e",
   "metadata": {},
   "outputs": [],
   "source": [
    "hazard_path_processed = hazard_path.joinpath(\"processed\")\n",
    "for hazard_file in hazard_files:\n",
    "    process_raster(hazard_file, hazard_path_processed)"
   ]
  },
  {
   "cell_type": "code",
   "execution_count": 11,
   "id": "59c063c6",
   "metadata": {},
   "outputs": [
    {
     "name": "stdout",
     "output_type": "stream",
     "text": [
      "C:\\python\\powerpath\\data\\static\\hazard\\processed\\delfland_ghg200m_wgs84_processed.tif\n"
     ]
    }
   ],
   "source": [
    "hazard_files_processed = get_all_files(hazard_path_processed)\n",
    "hazard_crs = \"EPSG:4326\" # for the hackathon case => \"EPSG:4326\" \n",
    "\n",
    "for hazard_file in hazard_files_processed:\n",
    "    print (hazard_file)"
   ]
  }
 ],
 "metadata": {
  "kernelspec": {
   "display_name": "ra2ce_env",
   "language": "python",
   "name": "python3"
  },
  "language_info": {
   "codemirror_mode": {
    "name": "ipython",
    "version": 3
   },
   "file_extension": ".py",
   "mimetype": "text/x-python",
   "name": "python",
   "nbconvert_exporter": "python",
   "pygments_lexer": "ipython3",
   "version": "3.11.11"
  }
 },
 "nbformat": 4,
 "nbformat_minor": 5
}
